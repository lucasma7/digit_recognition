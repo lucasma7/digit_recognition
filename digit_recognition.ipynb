{
 "cells": [
  {
   "cell_type": "code",
   "execution_count": 1,
   "id": "e96225d5",
   "metadata": {},
   "outputs": [],
   "source": [
    "import numpy as np\n",
    "import pandas as pd"
   ]
  },
  {
   "cell_type": "markdown",
   "id": "ea6e203e",
   "metadata": {},
   "source": [
    "## Pré-processamento dos dados\n",
    "\n",
    "<hr>\n",
    "\n",
    "Sabemos que o dataset é composto por 784 pixels e uma coluna label que representa o verdadeiro digito (```y=label```), temos como requisito a utilização de classificador binário (inserir aqui o PLA Pocket + regressão linear para reta inicial), e estes consistem em separar dados por uma reta no  $\\mathbb{R}²$ então não podemos trabalhar em  $\\mathbb{R}^{784}$, para isso é necessário realizar duas operações para redimensionar nossos dados para que seja viável a aplicação do classificador. \n",
    "\n",
    "Os dois processor que são realizados é o de captação da densidade e da simetria da imagem de acordo com os pixels, visto que os pixels estão em uma escala de cinza que vai de ```[0,255]```, onde $0$ é branco e $255$ é totalmente preto."
   ]
  },
  {
   "cell_type": "code",
   "execution_count": 52,
   "id": "ff75fd58",
   "metadata": {},
   "outputs": [],
   "source": [
    "# Leitura dos dados, utilizando pandas pela praticidade \n",
    "\n",
    "data_train = pd.read_csv(\"data/train.csv\", index_col = 0)"
   ]
  },
  {
   "cell_type": "code",
   "execution_count": 62,
   "id": "55ec8f70",
   "metadata": {},
   "outputs": [
    {
     "data": {
      "text/plain": [
       "(array([[0, 0, 0, ..., 0, 0, 0],\n",
       "        [0, 0, 0, ..., 0, 0, 0],\n",
       "        [0, 0, 0, ..., 0, 0, 0],\n",
       "        ...,\n",
       "        [0, 0, 0, ..., 0, 0, 0],\n",
       "        [0, 0, 0, ..., 0, 0, 0],\n",
       "        [0, 0, 0, ..., 0, 0, 0]]),\n",
       " array([1, 1, 0, ..., 1, 7, 9]),\n",
       " (27773, 784))"
      ]
     },
     "execution_count": 62,
     "metadata": {},
     "output_type": "execute_result"
    }
   ],
   "source": [
    "# Obtenção dos labels e dos pixels, utilizando numpy pela eficiência\n",
    "\n",
    "label = np.array(data_train['label'])\n",
    "pixels = np.array(data_train.iloc[:,1:])\n",
    "pixels, label , pixels.shape"
   ]
  },
  {
   "cell_type": "markdown",
   "id": "bcfa01c0",
   "metadata": {},
   "source": [
    "### Intensidade:\n",
    "Dada pela equação: $$I= \\frac{\\sum_{n=0}^{783}pixel_i}{255}$$"
   ]
  },
  {
   "cell_type": "code",
   "execution_count": 84,
   "id": "2f8d21d0",
   "metadata": {},
   "outputs": [],
   "source": [
    "I = [np.sum(i)/255 for i in pixels]"
   ]
  },
  {
   "cell_type": "code",
   "execution_count": null,
   "id": "978f5155",
   "metadata": {},
   "outputs": [],
   "source": []
  }
 ],
 "metadata": {
  "kernelspec": {
   "display_name": "Python 3 (ipykernel)",
   "language": "python",
   "name": "python3"
  },
  "language_info": {
   "codemirror_mode": {
    "name": "ipython",
    "version": 3
   },
   "file_extension": ".py",
   "mimetype": "text/x-python",
   "name": "python",
   "nbconvert_exporter": "python",
   "pygments_lexer": "ipython3",
   "version": "3.9.12"
  }
 },
 "nbformat": 4,
 "nbformat_minor": 5
}
